{
 "cells": [
  {
   "cell_type": "markdown",
   "metadata": {},
   "source": [
    "# Notes\n",
    "In any application, organizing and storing data in a way or in a structure that is best suited to its usage is key to efficient access and processing of data. \n",
    "There are some standard data structures that can be used to efficiently work with data. We can even customize them or build completely new ones to suit our application."
   ]
  },
  {
   "cell_type": "markdown",
   "metadata": {},
   "source": [
    "## Data structures: \n",
    "it represents the way of arrarning data in computer so that it can be accessed and used efficiently. It is all about grouping and storing collections of data in memory, opertaions that can be performed on these collections and algorithms that can be used for these operations."
   ]
  },
  {
   "cell_type": "markdown",
   "metadata": {},
   "source": [
    "### Data structure and its type: \n",
    "1. Liner data structure \n",
    "2. Non-Linear Data Structures"
   ]
  },
  {
   "cell_type": "markdown",
   "metadata": {},
   "source": [
    "# Type 1: Linear Data Structures\n",
    "They are miostly we call them as list\n",
    "1. Arrays\n",
    "2. Linked Liste-------------"
   ]
  },
  {
   "cell_type": "code",
   "execution_count": null,
   "metadata": {},
   "outputs": [],
   "source": []
  }
 ],
 "metadata": {
  "kernelspec": {
   "display_name": "Python 3",
   "language": "python",
   "name": "python3"
  },
  "language_info": {
   "codemirror_mode": {
    "name": "ipython",
    "version": 3
   },
   "file_extension": ".py",
   "mimetype": "text/x-python",
   "name": "python",
   "nbconvert_exporter": "python",
   "pygments_lexer": "ipython3",
   "version": "3.7.8"
  }
 },
 "nbformat": 4,
 "nbformat_minor": 4
}
